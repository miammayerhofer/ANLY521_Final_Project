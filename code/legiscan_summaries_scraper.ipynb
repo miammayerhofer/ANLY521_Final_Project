{
 "cells": [
  {
   "cell_type": "markdown",
   "metadata": {},
   "source": [
    "## Legiscan Summary Scraper"
   ]
  },
  {
   "cell_type": "code",
   "execution_count": 1,
   "metadata": {},
   "outputs": [],
   "source": [
    "# IMPORT PACKAGES\n",
    "from selenium import webdriver         \n",
    "from selenium.webdriver.common.by import By   \n",
    "from selenium.webdriver.support.ui import Select\n",
    "from webdriver_manager.chrome import ChromeDriverManager\n",
    "import time                                   \n",
    "from bs4 import BeautifulSoup                 \n",
    "import pandas as pd                             \n",
    "import re                                       \n",
    "import numpy as np\n",
    "import requests\n",
    "import io\n",
    "import os"
   ]
  },
  {
   "cell_type": "code",
   "execution_count": 3,
   "metadata": {},
   "outputs": [],
   "source": [
    "# READ IN BILL INFO\n",
    "bill_data = pd.read_csv(\"../modified_data/merged_bill_data.csv\")\n",
    "# Make a list of the bill names\n",
    "names_list = bill_data.bill_name\n",
    "states_list = bill_data.full_state"
   ]
  },
  {
   "cell_type": "code",
   "execution_count": 4,
   "metadata": {},
   "outputs": [
    {
     "name": "stdout",
     "output_type": "stream",
     "text": [
      "BILL: AK HB27\n"
     ]
    },
    {
     "ename": "NoSuchElementException",
     "evalue": "Message: Could not locate element with visible text: AK\n",
     "output_type": "error",
     "traceback": [
      "\u001b[0;31m---------------------------------------------------------------------------\u001b[0m",
      "\u001b[0;31mNoSuchElementException\u001b[0m                    Traceback (most recent call last)",
      "Cell \u001b[0;32mIn[4], line 13\u001b[0m\n\u001b[1;32m     11\u001b[0m dropdown \u001b[38;5;241m=\u001b[39m driver\u001b[38;5;241m.\u001b[39mfind_element(By\u001b[38;5;241m.\u001b[39mID, \u001b[38;5;124m\"\u001b[39m\u001b[38;5;124medit-state-id\u001b[39m\u001b[38;5;124m\"\u001b[39m)\n\u001b[1;32m     12\u001b[0m select \u001b[38;5;241m=\u001b[39m Select(dropdown)\n\u001b[0;32m---> 13\u001b[0m select\u001b[38;5;241m.\u001b[39mselect_by_visible_text(states_list[i])\n\u001b[1;32m     14\u001b[0m \u001b[38;5;66;03m# Try to find the bill number box and clear it \u001b[39;00m\n\u001b[1;32m     15\u001b[0m \u001b[38;5;28;01mtry\u001b[39;00m:\n",
      "File \u001b[0;32m~/opt/anaconda3/envs/anly521/lib/python3.11/site-packages/selenium/webdriver/support/select.py:140\u001b[0m, in \u001b[0;36mSelect.select_by_visible_text\u001b[0;34m(self, text)\u001b[0m\n\u001b[1;32m    137\u001b[0m             matched \u001b[39m=\u001b[39m \u001b[39mTrue\u001b[39;00m\n\u001b[1;32m    139\u001b[0m \u001b[39mif\u001b[39;00m \u001b[39mnot\u001b[39;00m matched:\n\u001b[0;32m--> 140\u001b[0m     \u001b[39mraise\u001b[39;00m NoSuchElementException(\u001b[39m\"\u001b[39m\u001b[39mCould not locate element with visible text: \u001b[39m\u001b[39m%s\u001b[39;00m\u001b[39m\"\u001b[39m \u001b[39m%\u001b[39m text)\n",
      "\u001b[0;31mNoSuchElementException\u001b[0m: Message: Could not locate element with visible text: AK\n"
     ]
    }
   ],
   "source": [
    "summaries = []\n",
    "# Start a new Chrome web driver\n",
    "driver = webdriver.Chrome(ChromeDriverManager().install())\n",
    "# Go to legiscan website\n",
    "driver.get(\"https://legiscan.com/AL/legislation\")\n",
    "for i in range(len(names_list)):\n",
    "    print(\"BILL:\", states_list[i], names_list[i])\n",
    "    # Wait\n",
    "    driver.implicitly_wait(3)\n",
    "    # Select state from dropdown\n",
    "    dropdown = driver.find_element(By.ID, \"edit-state-id\")\n",
    "    select = Select(dropdown)\n",
    "    select.select_by_visible_text(states_list[i])\n",
    "    # Try to find the bill number box and clear it \n",
    "    try:\n",
    "        driver.find_element(By.ID, \"edit-bill-number\").clear()\n",
    "    # If the code runs with error\n",
    "    except:\n",
    "        # Try to find the bill number box another way\n",
    "        try:\n",
    "            driver.find_element(By.ID, \"edit-bill-number-1\").clear()\n",
    "        # If none of this works, print an error statement\n",
    "        except: \n",
    "            print(\"ERROR Not able to edit the bill number for:\", states_list[i], names_list[i])\n",
    "        # If the other way works, clear the box and send the keys\n",
    "        else:\n",
    "            driver.find_element(By.ID, \"edit-bill-number-1\").clear()\n",
    "            input_box = driver.find_element(By.ID, \"edit-bill-number-1\")\n",
    "            input_box.send_keys(names_list[i])\n",
    "            # Click search\n",
    "            driver.find_element(By.ID, \"edit-submit\").click()\n",
    "            # Try to find the bill summary\n",
    "            try: \n",
    "                driver.find_element(By.ID, \"bill-summary\")\n",
    "            # If no bill summary found, fill with NaN and print error message\n",
    "            except: \n",
    "                print(\"ERROR Could not find bill summary for:\", states_list[i], names_list[i])\n",
    "                summaries.append(np.nan)\n",
    "            # If bill summary is found, add to list\n",
    "            else:\n",
    "                summary_element = driver.find_element(By.ID, \"bill-summary\")\n",
    "                summaries.append(summary_element.text)\n",
    "    # If the first way of finding the box with the bill number works, run the following\n",
    "    else:\n",
    "        # Clear box and send bill number to box\n",
    "        driver.find_element(By.ID, \"edit-bill-number\").clear()\n",
    "        input_box = driver.find_element(By.ID, \"edit-bill-number\")\n",
    "        input_box.send_keys(names_list[i])\n",
    "        # Click search\n",
    "        driver.find_element(By.ID, \"edit-submit\").click()\n",
    "        # Try to find the bill summary\n",
    "        try: \n",
    "            driver.find_element(By.ID, \"bill-summary\")\n",
    "        # If no bill summary found, fill with NaN and print error message\n",
    "        except: \n",
    "            print(\"ERROR Could not find bill summary for:\", states_list[i], names_list[i])\n",
    "            summaries.append(np.nan)\n",
    "        # If bill summary is found, add to list\n",
    "        else:\n",
    "            summary_element = driver.find_element(By.ID, \"bill-summary\")\n",
    "            summaries.append(summary_element.text)\n",
    "driver.quit()"
   ]
  }
 ],
 "metadata": {
  "kernelspec": {
   "display_name": "Python 3.11.0 ('anly521')",
   "language": "python",
   "name": "python3"
  },
  "language_info": {
   "codemirror_mode": {
    "name": "ipython",
    "version": 3
   },
   "file_extension": ".py",
   "mimetype": "text/x-python",
   "name": "python",
   "nbconvert_exporter": "python",
   "pygments_lexer": "ipython3",
   "version": "3.11.0"
  },
  "orig_nbformat": 4,
  "vscode": {
   "interpreter": {
    "hash": "77566a2c3ddae237484c9e2ee11aa0d0d130c667ddac0346d8d50ca9701792c2"
   }
  }
 },
 "nbformat": 4,
 "nbformat_minor": 2
}
