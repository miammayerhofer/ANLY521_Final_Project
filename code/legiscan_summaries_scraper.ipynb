{
 "cells": [
  {
   "cell_type": "markdown",
   "metadata": {},
   "source": [
    "## Legiscan Summary Scraper"
   ]
  },
  {
   "cell_type": "code",
   "execution_count": 31,
   "metadata": {},
   "outputs": [],
   "source": [
    "# IMPORT PACKAGES\n",
    "from selenium import webdriver         \n",
    "from selenium.webdriver.common.by import By   \n",
    "from selenium.webdriver.support.ui import Select\n",
    "from webdriver_manager.chrome import ChromeDriverManager\n",
    "import time                                   \n",
    "from bs4 import BeautifulSoup                 \n",
    "import pandas as pd                             \n",
    "import re                                       \n",
    "import numpy as np\n",
    "import requests\n",
    "import io\n",
    "import os"
   ]
  },
  {
   "cell_type": "code",
   "execution_count": 32,
   "metadata": {},
   "outputs": [],
   "source": [
    "# READ IN BILL INFO\n",
    "bill_data = pd.read_csv(\"../modified_data/merged_bill_data.csv\")\n",
    "# Make a list of the bill names\n",
    "names_list = bill_data.bill_name\n",
    "states_list = bill_data.state"
   ]
  },
  {
   "cell_type": "code",
   "execution_count": 33,
   "metadata": {},
   "outputs": [
    {
     "ename": "WebDriverException",
     "evalue": "Message: unknown error: net::ERR_CONNECTION_REFUSED\n  (Session info: chrome=111.0.5563.146)\n",
     "output_type": "error",
     "traceback": [
      "\u001b[0;31m---------------------------------------------------------------------------\u001b[0m",
      "\u001b[0;31mWebDriverException\u001b[0m                        Traceback (most recent call last)",
      "Cell \u001b[0;32mIn[33], line 5\u001b[0m\n\u001b[1;32m      3\u001b[0m driver \u001b[38;5;241m=\u001b[39m webdriver\u001b[38;5;241m.\u001b[39mChrome(ChromeDriverManager()\u001b[38;5;241m.\u001b[39minstall())\n\u001b[1;32m      4\u001b[0m \u001b[38;5;66;03m# Go to legiscan website\u001b[39;00m\n\u001b[0;32m----> 5\u001b[0m driver\u001b[38;5;241m.\u001b[39mget(\u001b[38;5;124m\"\u001b[39m\u001b[38;5;124mhttps://legiscan.com/AL/legislation\u001b[39m\u001b[38;5;124m\"\u001b[39m)\n\u001b[1;32m      6\u001b[0m \u001b[38;5;28;01mfor\u001b[39;00m i \u001b[38;5;129;01min\u001b[39;00m \u001b[38;5;28mrange\u001b[39m(\u001b[38;5;28mlen\u001b[39m(names_list)):\n\u001b[1;32m      7\u001b[0m     \u001b[38;5;28mprint\u001b[39m(\u001b[38;5;124m\"\u001b[39m\u001b[38;5;124mBILL:\u001b[39m\u001b[38;5;124m\"\u001b[39m, states_list[i], names_list[i])\n",
      "File \u001b[0;32m~/opt/anaconda3/envs/anly521/lib/python3.11/site-packages/selenium/webdriver/remote/webdriver.py:333\u001b[0m, in \u001b[0;36mWebDriver.get\u001b[0;34m(self, url)\u001b[0m\n\u001b[1;32m    329\u001b[0m \u001b[39mdef\u001b[39;00m \u001b[39mget\u001b[39m(\u001b[39mself\u001b[39m, url):\n\u001b[1;32m    330\u001b[0m     \u001b[39m\"\"\"\u001b[39;00m\n\u001b[1;32m    331\u001b[0m \u001b[39m    Loads a web page in the current browser session.\u001b[39;00m\n\u001b[1;32m    332\u001b[0m \u001b[39m    \"\"\"\u001b[39;00m\n\u001b[0;32m--> 333\u001b[0m     \u001b[39mself\u001b[39m\u001b[39m.\u001b[39mexecute(Command\u001b[39m.\u001b[39mGET, {\u001b[39m'\u001b[39m\u001b[39murl\u001b[39m\u001b[39m'\u001b[39m: url})\n",
      "File \u001b[0;32m~/opt/anaconda3/envs/anly521/lib/python3.11/site-packages/selenium/webdriver/remote/webdriver.py:321\u001b[0m, in \u001b[0;36mWebDriver.execute\u001b[0;34m(self, driver_command, params)\u001b[0m\n\u001b[1;32m    319\u001b[0m response \u001b[39m=\u001b[39m \u001b[39mself\u001b[39m\u001b[39m.\u001b[39mcommand_executor\u001b[39m.\u001b[39mexecute(driver_command, params)\n\u001b[1;32m    320\u001b[0m \u001b[39mif\u001b[39;00m response:\n\u001b[0;32m--> 321\u001b[0m     \u001b[39mself\u001b[39m\u001b[39m.\u001b[39merror_handler\u001b[39m.\u001b[39mcheck_response(response)\n\u001b[1;32m    322\u001b[0m     response[\u001b[39m'\u001b[39m\u001b[39mvalue\u001b[39m\u001b[39m'\u001b[39m] \u001b[39m=\u001b[39m \u001b[39mself\u001b[39m\u001b[39m.\u001b[39m_unwrap_value(\n\u001b[1;32m    323\u001b[0m         response\u001b[39m.\u001b[39mget(\u001b[39m'\u001b[39m\u001b[39mvalue\u001b[39m\u001b[39m'\u001b[39m, \u001b[39mNone\u001b[39;00m))\n\u001b[1;32m    324\u001b[0m     \u001b[39mreturn\u001b[39;00m response\n",
      "File \u001b[0;32m~/opt/anaconda3/envs/anly521/lib/python3.11/site-packages/selenium/webdriver/remote/errorhandler.py:242\u001b[0m, in \u001b[0;36mErrorHandler.check_response\u001b[0;34m(self, response)\u001b[0m\n\u001b[1;32m    240\u001b[0m         alert_text \u001b[39m=\u001b[39m value[\u001b[39m'\u001b[39m\u001b[39malert\u001b[39m\u001b[39m'\u001b[39m]\u001b[39m.\u001b[39mget(\u001b[39m'\u001b[39m\u001b[39mtext\u001b[39m\u001b[39m'\u001b[39m)\n\u001b[1;32m    241\u001b[0m     \u001b[39mraise\u001b[39;00m exception_class(message, screen, stacktrace, alert_text)\n\u001b[0;32m--> 242\u001b[0m \u001b[39mraise\u001b[39;00m exception_class(message, screen, stacktrace)\n",
      "\u001b[0;31mWebDriverException\u001b[0m: Message: unknown error: net::ERR_CONNECTION_REFUSED\n  (Session info: chrome=111.0.5563.146)\n"
     ]
    }
   ],
   "source": [
    "summaries = []\n",
    "# Start a new Chrome web driver\n",
    "driver = webdriver.Chrome(ChromeDriverManager().install())\n",
    "# Go to legiscan website\n",
    "driver.get(\"https://legiscan.com/AL/legislation\")\n",
    "for i in range(len(names_list)):\n",
    "    print(\"BILL:\", states_list[i], names_list[i])\n",
    "    # Wait\n",
    "    driver.implicitly_wait(3)\n",
    "    # Select state from dropdown\n",
    "    dropdown = driver.find_element(By.ID, \"edit-state-id\")\n",
    "    select = Select(dropdown)\n",
    "    select.select_by_visible_text(states_list[i])\n",
    "    # Try to find the bill number box and clear it \n",
    "    try:\n",
    "        driver.find_element(By.ID, \"edit-bill-number\").clear()\n",
    "    # If the code runs with error\n",
    "    except:\n",
    "        # Try to find the bill number box another way\n",
    "        try:\n",
    "            driver.find_element(By.ID, \"edit-bill-number-1\").clear()\n",
    "        # If none of this works, print an error statement\n",
    "        except: \n",
    "            print(\"ERROR Not able to edit the bill number for:\", states_list[i], names_list[i])\n",
    "        # If the other way works, clear the box and send the keys\n",
    "        else:\n",
    "            driver.find_element(By.ID, \"edit-bill-number-1\").clear()\n",
    "            input_box = driver.find_element(By.ID, \"edit-bill-number-1\")\n",
    "            input_box.send_keys(names_list[i])\n",
    "            # Click search\n",
    "            driver.find_element(By.ID, \"edit-submit\").click()\n",
    "            # Try to find the bill summary\n",
    "            try: \n",
    "                driver.find_element(By.ID, \"bill-summary\")\n",
    "            # If no bill summary found, fill with NaN and print error message\n",
    "            except: \n",
    "                print(\"ERROR Could not find bill summary for:\", states_list[i], names_list[i])\n",
    "                summaries.append(np.nan)\n",
    "            # If bill summary is found, add to list\n",
    "            else:\n",
    "                summary_element = driver.find_element(By.ID, \"bill-summary\")\n",
    "                summaries.append(summary_element.text)\n",
    "    # If the first way of finding the box with the bill number works, run the following\n",
    "    else:\n",
    "        # Clear box and send bill number to box\n",
    "        driver.find_element(By.ID, \"edit-bill-number\").clear()\n",
    "        input_box = driver.find_element(By.ID, \"edit-bill-number\")\n",
    "        input_box.send_keys(names_list[i])\n",
    "        # Click search\n",
    "        driver.find_element(By.ID, \"edit-submit\").click()\n",
    "        # Try to find the bill summary\n",
    "        try: \n",
    "            driver.find_element(By.ID, \"bill-summary\")\n",
    "        # If no bill summary found, fill with NaN and print error message\n",
    "        except: \n",
    "            print(\"ERROR Could not find bill summary for:\", states_list[i], names_list[i])\n",
    "            summaries.append(np.nan)\n",
    "        # If bill summary is found, add to list\n",
    "        else:\n",
    "            summary_element = driver.find_element(By.ID, \"bill-summary\")\n",
    "            summaries.append(summary_element.text)\n",
    "driver.quit()"
   ]
  }
 ],
 "metadata": {
  "kernelspec": {
   "display_name": "Python 3.11.0 ('anly521')",
   "language": "python",
   "name": "python3"
  },
  "language_info": {
   "codemirror_mode": {
    "name": "ipython",
    "version": 3
   },
   "file_extension": ".py",
   "mimetype": "text/x-python",
   "name": "python",
   "nbconvert_exporter": "python",
   "pygments_lexer": "ipython3",
   "version": "3.11.0"
  },
  "orig_nbformat": 4,
  "vscode": {
   "interpreter": {
    "hash": "77566a2c3ddae237484c9e2ee11aa0d0d130c667ddac0346d8d50ca9701792c2"
   }
  }
 },
 "nbformat": 4,
 "nbformat_minor": 2
}
